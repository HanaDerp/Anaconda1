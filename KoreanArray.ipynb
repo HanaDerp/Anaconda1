{
 "cells": [
  {
   "cell_type": "code",
   "execution_count": 1,
   "id": "d9bc71bc",
   "metadata": {},
   "outputs": [],
   "source": [
    "import pandas as pd\n",
    "import numpy as np\n",
    "import matplotlib.pyplot as plt\n",
    "%matplotlib inline"
   ]
  },
  {
   "cell_type": "code",
   "execution_count": 2,
   "id": "5a2c3752",
   "metadata": {},
   "outputs": [],
   "source": [
    "word = [\"candy\",\"went\",\"going\"]"
   ]
  },
  {
   "cell_type": "code",
   "execution_count": 3,
   "id": "67bb0345",
   "metadata": {
    "scrolled": false
   },
   "outputs": [],
   "source": [
    "pos = [\"noun\",\"verb\",\"verb\"]"
   ]
  },
  {
   "cell_type": "code",
   "execution_count": 4,
   "id": "3a341b60",
   "metadata": {},
   "outputs": [],
   "source": [
    "tP = [\"candies\", \"past\",\"present\"]"
   ]
  },
  {
   "cell_type": "code",
   "execution_count": 5,
   "id": "8ae38be9",
   "metadata": {},
   "outputs": [],
   "source": [
    "df=pd.DataFrame({\"Word\":word, \"Parts of Speech\":pos, \"Tense\":tP})"
   ]
  },
  {
   "cell_type": "code",
   "execution_count": 6,
   "id": "9619a60f",
   "metadata": {},
   "outputs": [
    {
     "data": {
      "text/html": [
       "<div>\n",
       "<style scoped>\n",
       "    .dataframe tbody tr th:only-of-type {\n",
       "        vertical-align: middle;\n",
       "    }\n",
       "\n",
       "    .dataframe tbody tr th {\n",
       "        vertical-align: top;\n",
       "    }\n",
       "\n",
       "    .dataframe thead th {\n",
       "        text-align: right;\n",
       "    }\n",
       "</style>\n",
       "<table border=\"1\" class=\"dataframe\">\n",
       "  <thead>\n",
       "    <tr style=\"text-align: right;\">\n",
       "      <th></th>\n",
       "      <th>Word</th>\n",
       "      <th>Parts of Speech</th>\n",
       "      <th>Tense</th>\n",
       "    </tr>\n",
       "  </thead>\n",
       "  <tbody>\n",
       "    <tr>\n",
       "      <th>0</th>\n",
       "      <td>candy</td>\n",
       "      <td>noun</td>\n",
       "      <td>candies</td>\n",
       "    </tr>\n",
       "    <tr>\n",
       "      <th>1</th>\n",
       "      <td>went</td>\n",
       "      <td>verb</td>\n",
       "      <td>past</td>\n",
       "    </tr>\n",
       "    <tr>\n",
       "      <th>2</th>\n",
       "      <td>going</td>\n",
       "      <td>verb</td>\n",
       "      <td>present</td>\n",
       "    </tr>\n",
       "  </tbody>\n",
       "</table>\n",
       "</div>"
      ],
      "text/plain": [
       "    Word Parts of Speech    Tense\n",
       "0  candy            noun  candies\n",
       "1   went            verb     past\n",
       "2  going            verb  present"
      ]
     },
     "execution_count": 6,
     "metadata": {},
     "output_type": "execute_result"
    }
   ],
   "source": [
    "df"
   ]
  },
  {
   "cell_type": "code",
   "execution_count": 7,
   "id": "e806b3bb",
   "metadata": {},
   "outputs": [],
   "source": [
    "df.loc[0,\"Word\"] = \"오리\""
   ]
  },
  {
   "cell_type": "code",
   "execution_count": 8,
   "id": "d7578b73",
   "metadata": {},
   "outputs": [
    {
     "data": {
      "text/html": [
       "<div>\n",
       "<style scoped>\n",
       "    .dataframe tbody tr th:only-of-type {\n",
       "        vertical-align: middle;\n",
       "    }\n",
       "\n",
       "    .dataframe tbody tr th {\n",
       "        vertical-align: top;\n",
       "    }\n",
       "\n",
       "    .dataframe thead th {\n",
       "        text-align: right;\n",
       "    }\n",
       "</style>\n",
       "<table border=\"1\" class=\"dataframe\">\n",
       "  <thead>\n",
       "    <tr style=\"text-align: right;\">\n",
       "      <th></th>\n",
       "      <th>Word</th>\n",
       "      <th>Parts of Speech</th>\n",
       "      <th>Tense</th>\n",
       "    </tr>\n",
       "  </thead>\n",
       "  <tbody>\n",
       "    <tr>\n",
       "      <th>0</th>\n",
       "      <td>오리</td>\n",
       "      <td>noun</td>\n",
       "      <td>candies</td>\n",
       "    </tr>\n",
       "    <tr>\n",
       "      <th>1</th>\n",
       "      <td>went</td>\n",
       "      <td>verb</td>\n",
       "      <td>past</td>\n",
       "    </tr>\n",
       "    <tr>\n",
       "      <th>2</th>\n",
       "      <td>going</td>\n",
       "      <td>verb</td>\n",
       "      <td>present</td>\n",
       "    </tr>\n",
       "  </tbody>\n",
       "</table>\n",
       "</div>"
      ],
      "text/plain": [
       "    Word Parts of Speech    Tense\n",
       "0     오리            noun  candies\n",
       "1   went            verb     past\n",
       "2  going            verb  present"
      ]
     },
     "execution_count": 8,
     "metadata": {},
     "output_type": "execute_result"
    }
   ],
   "source": [
    "df"
   ]
  },
  {
   "cell_type": "code",
   "execution_count": 11,
   "id": "5691d6cb",
   "metadata": {},
   "outputs": [],
   "source": [
    "df[\"English\"]=\"duck\",\"potato\",\"candy\""
   ]
  },
  {
   "cell_type": "code",
   "execution_count": 12,
   "id": "c35b9c03",
   "metadata": {},
   "outputs": [],
   "source": [
    "df= df[list((\"Word\",\"English\",\"Parts of Speech\",\"Tense\"))]"
   ]
  },
  {
   "cell_type": "code",
   "execution_count": 13,
   "id": "f8a036de",
   "metadata": {
    "scrolled": true
   },
   "outputs": [
    {
     "data": {
      "text/html": [
       "<div>\n",
       "<style scoped>\n",
       "    .dataframe tbody tr th:only-of-type {\n",
       "        vertical-align: middle;\n",
       "    }\n",
       "\n",
       "    .dataframe tbody tr th {\n",
       "        vertical-align: top;\n",
       "    }\n",
       "\n",
       "    .dataframe thead th {\n",
       "        text-align: right;\n",
       "    }\n",
       "</style>\n",
       "<table border=\"1\" class=\"dataframe\">\n",
       "  <thead>\n",
       "    <tr style=\"text-align: right;\">\n",
       "      <th></th>\n",
       "      <th>Word</th>\n",
       "      <th>English</th>\n",
       "      <th>Parts of Speech</th>\n",
       "      <th>Tense</th>\n",
       "    </tr>\n",
       "  </thead>\n",
       "  <tbody>\n",
       "    <tr>\n",
       "      <th>0</th>\n",
       "      <td>오리</td>\n",
       "      <td>duck</td>\n",
       "      <td>noun</td>\n",
       "      <td>candies</td>\n",
       "    </tr>\n",
       "    <tr>\n",
       "      <th>1</th>\n",
       "      <td>went</td>\n",
       "      <td>potato</td>\n",
       "      <td>verb</td>\n",
       "      <td>past</td>\n",
       "    </tr>\n",
       "    <tr>\n",
       "      <th>2</th>\n",
       "      <td>going</td>\n",
       "      <td>candy</td>\n",
       "      <td>verb</td>\n",
       "      <td>present</td>\n",
       "    </tr>\n",
       "  </tbody>\n",
       "</table>\n",
       "</div>"
      ],
      "text/plain": [
       "    Word English Parts of Speech    Tense\n",
       "0     오리    duck            noun  candies\n",
       "1   went  potato            verb     past\n",
       "2  going   candy            verb  present"
      ]
     },
     "execution_count": 13,
     "metadata": {},
     "output_type": "execute_result"
    }
   ],
   "source": [
    "df"
   ]
  },
  {
   "cell_type": "code",
   "execution_count": 15,
   "id": "7cd0c747",
   "metadata": {},
   "outputs": [
    {
     "data": {
      "text/plain": [
       "0     True\n",
       "1    False\n",
       "2    False\n",
       "Name: Tense, dtype: bool"
      ]
     },
     "execution_count": 15,
     "metadata": {},
     "output_type": "execute_result"
    }
   ],
   "source": [
    "df[\"Tense\"]==\"candies\""
   ]
  },
  {
   "cell_type": "code",
   "execution_count": null,
   "id": "0e541343",
   "metadata": {},
   "outputs": [],
   "source": []
  }
 ],
 "metadata": {
  "kernelspec": {
   "display_name": "Python 3 (ipykernel)",
   "language": "python",
   "name": "python3"
  },
  "language_info": {
   "codemirror_mode": {
    "name": "ipython",
    "version": 3
   },
   "file_extension": ".py",
   "mimetype": "text/x-python",
   "name": "python",
   "nbconvert_exporter": "python",
   "pygments_lexer": "ipython3",
   "version": "3.10.12"
  }
 },
 "nbformat": 4,
 "nbformat_minor": 5
}
